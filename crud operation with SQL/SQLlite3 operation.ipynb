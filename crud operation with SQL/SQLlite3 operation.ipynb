{
 "cells": [
  {
   "cell_type": "code",
   "execution_count": 1,
   "metadata": {},
   "outputs": [],
   "source": [
    "import sqlite3 as sql"
   ]
  },
  {
   "cell_type": "markdown",
   "metadata": {},
   "source": [
    "create a database"
   ]
  },
  {
   "cell_type": "code",
   "execution_count": 3,
   "metadata": {},
   "outputs": [
    {
     "data": {
      "text/plain": [
       "<sqlite3.Connection at 0x20c56425030>"
      ]
     },
     "execution_count": 3,
     "metadata": {},
     "output_type": "execute_result"
    }
   ],
   "source": [
    "connection=sql.connect('employee.db')\n",
    "connection"
   ]
  },
  {
   "cell_type": "markdown",
   "metadata": {},
   "source": [
    "creating a cursor which is use to iterate tables read,delete,update,etc operation"
   ]
  },
  {
   "cell_type": "code",
   "execution_count": 6,
   "metadata": {},
   "outputs": [],
   "source": [
    "cursor=connection.cursor()"
   ]
  },
  {
   "cell_type": "markdown",
   "metadata": {},
   "source": [
    "creating a table in employee.db database"
   ]
  },
  {
   "cell_type": "code",
   "execution_count": 19,
   "metadata": {},
   "outputs": [],
   "source": [
    "cursor.execute('''\n",
    "Create Table if not Exists employee_IT(\n",
    "               id Integer Primary Key,\n",
    "               name Text Not Null,\n",
    "               age Integer,\n",
    "               department Text\n",
    "               )\n",
    "''')\n",
    "\n",
    "##commit must be done by programmer or else you will get error\n",
    "connection.commit()"
   ]
  },
  {
   "cell_type": "markdown",
   "metadata": {},
   "source": [
    "querying table to fetch data"
   ]
  },
  {
   "cell_type": "code",
   "execution_count": 50,
   "metadata": {},
   "outputs": [
    {
     "data": {
      "text/plain": [
       "<sqlite3.Cursor at 0x20c57733740>"
      ]
     },
     "execution_count": 50,
     "metadata": {},
     "output_type": "execute_result"
    }
   ],
   "source": [
    "cursor.execute('''\n",
    "Select * from employee_IT\n",
    "''')\n"
   ]
  },
  {
   "cell_type": "markdown",
   "metadata": {},
   "source": [
    "adding data to table name employee_IT"
   ]
  },
  {
   "cell_type": "code",
   "execution_count": 51,
   "metadata": {},
   "outputs": [],
   "source": [
    "cursor.execute('''\n",
    "Insert into employee_IT(name,age,department)\n",
    "               values('meet',22,'CE')\n",
    "''')\n",
    "\n",
    "cursor.execute('''\n",
    "Insert into employee_IT(name,age,department)\n",
    "               values('mavani',22,'IT')\n",
    "''')\n",
    "\n",
    "cursor.execute('''\n",
    "Insert into employee_IT(name,age,department)\n",
    "               values('jiyan',22,'IT')\n",
    "''')\n",
    "\n",
    "connection.commit()"
   ]
  },
  {
   "cell_type": "code",
   "execution_count": 52,
   "metadata": {},
   "outputs": [
    {
     "name": "stdout",
     "output_type": "stream",
     "text": [
      "(1, 'meet', 22, 'CE')\n",
      "(2, 'mavani', 22, 'IT')\n",
      "(3, 'jiyan', 22, 'IT')\n"
     ]
    }
   ],
   "source": [
    "cursor.execute('''\n",
    "select * from employee_IT\n",
    "''')\n",
    "\n",
    "row=cursor.fetchall()\n",
    "\n",
    "for i in row:\n",
    "    print(i)"
   ]
  },
  {
   "cell_type": "code",
   "execution_count": 53,
   "metadata": {},
   "outputs": [],
   "source": [
    "cursor.execute('''\n",
    "Update employee_IT\n",
    "               set age=23\n",
    "               where name='mavani'\n",
    "''')\n",
    "\n",
    "connection.commit()"
   ]
  },
  {
   "cell_type": "code",
   "execution_count": 54,
   "metadata": {},
   "outputs": [
    {
     "name": "stdout",
     "output_type": "stream",
     "text": [
      "(1, 'meet', 22, 'CE')\n",
      "(2, 'mavani', 23, 'IT')\n",
      "(3, 'jiyan', 22, 'IT')\n"
     ]
    }
   ],
   "source": [
    "cursor.execute('''\n",
    "select * from employee_IT\n",
    "''')\n",
    "\n",
    "row=cursor.fetchall()\n",
    "\n",
    "for i in row:\n",
    "    print(i)"
   ]
  },
  {
   "cell_type": "code",
   "execution_count": 55,
   "metadata": {},
   "outputs": [],
   "source": [
    "cursor.execute('''\n",
    "Delete from employee_IT\n",
    "               where name='jiyan'\n",
    "''')\n",
    "\n",
    "connection.commit()"
   ]
  },
  {
   "cell_type": "code",
   "execution_count": 76,
   "metadata": {},
   "outputs": [
    {
     "name": "stdout",
     "output_type": "stream",
     "text": [
      "(1, 'meet', 22, 'CE')\n",
      "(2, 'mavani', 23, 'IT')\n"
     ]
    }
   ],
   "source": [
    "cursor.execute('''\n",
    "select * from employee_IT\n",
    "''')\n",
    "\n",
    "row=cursor.fetchall()\n",
    "\n",
    "for i in row:\n",
    "    print(i)\n",
    "\n",
    "    \n"
   ]
  },
  {
   "cell_type": "code",
   "execution_count": 87,
   "metadata": {},
   "outputs": [
    {
     "ename": "OperationalError",
     "evalue": "database is locked",
     "output_type": "error",
     "traceback": [
      "\u001b[1;31m---------------------------------------------------------------------------\u001b[0m",
      "\u001b[1;31mOperationalError\u001b[0m                          Traceback (most recent call last)",
      "Cell \u001b[1;32mIn[87], line 20\u001b[0m\n\u001b[0;32m      5\u001b[0m cursor\u001b[38;5;241m.\u001b[39mexecute(\u001b[38;5;124m'''\u001b[39m\n\u001b[0;32m      6\u001b[0m \u001b[38;5;124mCreate Table if not Exists sales(\u001b[39m\n\u001b[0;32m      7\u001b[0m \u001b[38;5;124m               name Text ,\u001b[39m\n\u001b[1;32m   (...)\u001b[0m\n\u001b[0;32m     10\u001b[0m \u001b[38;5;124m               )\u001b[39m\n\u001b[0;32m     11\u001b[0m \u001b[38;5;124m'''\u001b[39m)\n\u001b[0;32m     13\u001b[0m data\u001b[38;5;241m=\u001b[39m[\n\u001b[0;32m     14\u001b[0m     (\u001b[38;5;124m'\u001b[39m\u001b[38;5;124mphone\u001b[39m\u001b[38;5;124m'\u001b[39m,\u001b[38;5;241m2000\u001b[39m,\u001b[38;5;124m'\u001b[39m\u001b[38;5;124m25-12-2024\u001b[39m\u001b[38;5;124m'\u001b[39m),\n\u001b[0;32m     15\u001b[0m     (\u001b[38;5;124m'\u001b[39m\u001b[38;5;124mlaptop\u001b[39m\u001b[38;5;124m'\u001b[39m,\u001b[38;5;241m5000\u001b[39m,\u001b[38;5;124m'\u001b[39m\u001b[38;5;124m25-12-2024\u001b[39m\u001b[38;5;124m'\u001b[39m),\n\u001b[0;32m     16\u001b[0m     (\u001b[38;5;124m'\u001b[39m\u001b[38;5;124mtv\u001b[39m\u001b[38;5;124m'\u001b[39m,\u001b[38;5;241m400\u001b[39m,\u001b[38;5;124m'\u001b[39m\u001b[38;5;124m25-12-2024\u001b[39m\u001b[38;5;124m'\u001b[39m),\n\u001b[0;32m     17\u001b[0m     (\u001b[38;5;124m'\u001b[39m\u001b[38;5;124mAC\u001b[39m\u001b[38;5;124m'\u001b[39m,\u001b[38;5;241m900\u001b[39m,\u001b[38;5;124m'\u001b[39m\u001b[38;5;124m25-12-2024\u001b[39m\u001b[38;5;124m'\u001b[39m)\n\u001b[0;32m     18\u001b[0m ]\n\u001b[1;32m---> 20\u001b[0m \u001b[43mcursor\u001b[49m\u001b[38;5;241;43m.\u001b[39;49m\u001b[43mexecutemany\u001b[49m\u001b[43m(\u001b[49m\u001b[38;5;124;43m'''\u001b[39;49m\n\u001b[0;32m     21\u001b[0m \u001b[38;5;124;43mInsert into sales(name,quantity,date)\u001b[39;49m\n\u001b[0;32m     22\u001b[0m \u001b[38;5;124;43m               values(?,?,?)\u001b[39;49m\n\u001b[0;32m     23\u001b[0m \u001b[38;5;124;43m'''\u001b[39;49m\u001b[43m,\u001b[49m\u001b[43mdata\u001b[49m\u001b[43m)\u001b[49m\n\u001b[0;32m     25\u001b[0m connection\u001b[38;5;241m.\u001b[39mcommit()\n",
      "\u001b[1;31mOperationalError\u001b[0m: database is locked"
     ]
    }
   ],
   "source": [
    "connection=sql.connect('sales.db')\n",
    "\n",
    "cursor=connection.cursor()\n",
    "\n",
    "cursor.execute('''\n",
    "Create Table if not Exists sales(\n",
    "               name Text ,\n",
    "               quantity Integer Not Null,\n",
    "               date Text\n",
    "               )\n",
    "''')\n",
    "\n",
    "data=[\n",
    "    ('phone',2000,'25-12-2024'),\n",
    "    ('laptop',5000,'25-12-2024'),\n",
    "    ('tv',400,'25-12-2024'),\n",
    "    ('AC',900,'25-12-2024')\n",
    "]\n",
    "\n",
    "cursor.executemany('''\n",
    "Insert into sales(name,quantity,date)\n",
    "               values(?,?,?)\n",
    "''',data)\n",
    "\n",
    "connection.commit()\n"
   ]
  },
  {
   "cell_type": "code",
   "execution_count": 84,
   "metadata": {},
   "outputs": [
    {
     "name": "stdout",
     "output_type": "stream",
     "text": [
      "('phone', 2000, '25-12-2024')\n",
      "('laptop', 5000, '25-12-2024')\n",
      "('tv', 400, '25-12-2024')\n",
      "('AC', 900, '25-12-2024')\n"
     ]
    }
   ],
   "source": [
    "cursor.execute('''\n",
    "select * from sales\n",
    "''')\n",
    "\n",
    "row=cursor.fetchall()\n",
    "\n",
    "for i in row:\n",
    "    print(i)"
   ]
  },
  {
   "cell_type": "code",
   "execution_count": null,
   "metadata": {},
   "outputs": [],
   "source": []
  }
 ],
 "metadata": {
  "kernelspec": {
   "display_name": "Python 3",
   "language": "python",
   "name": "python3"
  },
  "language_info": {
   "codemirror_mode": {
    "name": "ipython",
    "version": 3
   },
   "file_extension": ".py",
   "mimetype": "text/x-python",
   "name": "python",
   "nbconvert_exporter": "python",
   "pygments_lexer": "ipython3",
   "version": "3.12.0"
  }
 },
 "nbformat": 4,
 "nbformat_minor": 2
}
