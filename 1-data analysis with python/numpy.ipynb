{
 "cells": [
  {
   "cell_type": "code",
   "execution_count": 1,
   "metadata": {},
   "outputs": [
    {
     "name": "stdout",
     "output_type": "stream",
     "text": [
      "Collecting numpy\n",
      "  Downloading numpy-2.1.1-cp312-cp312-win_amd64.whl.metadata (59 kB)\n",
      "     ---------------------------------------- 0.0/59.7 kB ? eta -:--:--\n",
      "     ------------- ------------------------ 20.5/59.7 kB 640.0 kB/s eta 0:00:01\n",
      "     -------------------------------------- 59.7/59.7 kB 626.6 kB/s eta 0:00:00\n",
      "Downloading numpy-2.1.1-cp312-cp312-win_amd64.whl (12.6 MB)\n",
      "   ---------------------------------------- 0.0/12.6 MB ? eta -:--:--\n",
      "   ---------------------------------------- 0.1/12.6 MB 2.6 MB/s eta 0:00:05\n",
      "   - -------------------------------------- 0.4/12.6 MB 4.6 MB/s eta 0:00:03\n",
      "   - -------------------------------------- 0.6/12.6 MB 4.8 MB/s eta 0:00:03\n",
      "   -- ------------------------------------- 0.9/12.6 MB 6.0 MB/s eta 0:00:02\n",
      "   --- ------------------------------------ 1.2/12.6 MB 5.8 MB/s eta 0:00:02\n",
      "   --- ------------------------------------ 1.2/12.6 MB 4.8 MB/s eta 0:00:03\n",
      "   ---- ----------------------------------- 1.4/12.6 MB 5.0 MB/s eta 0:00:03\n",
      "   ---- ----------------------------------- 1.4/12.6 MB 5.0 MB/s eta 0:00:03\n",
      "   ------ --------------------------------- 2.0/12.6 MB 5.3 MB/s eta 0:00:02\n",
      "   ------- -------------------------------- 2.3/12.6 MB 5.5 MB/s eta 0:00:02\n",
      "   -------- ------------------------------- 2.6/12.6 MB 5.7 MB/s eta 0:00:02\n",
      "   --------- ------------------------------ 2.9/12.6 MB 5.7 MB/s eta 0:00:02\n",
      "   ---------- ----------------------------- 3.2/12.6 MB 5.7 MB/s eta 0:00:02\n",
      "   ----------- ---------------------------- 3.5/12.6 MB 5.6 MB/s eta 0:00:02\n",
      "   ------------ --------------------------- 3.9/12.6 MB 5.7 MB/s eta 0:00:02\n",
      "   ------------- -------------------------- 4.1/12.6 MB 5.8 MB/s eta 0:00:02\n",
      "   -------------- ------------------------- 4.5/12.6 MB 5.8 MB/s eta 0:00:02\n",
      "   --------------- ------------------------ 4.8/12.6 MB 5.8 MB/s eta 0:00:02\n",
      "   --------------- ------------------------ 5.0/12.6 MB 5.8 MB/s eta 0:00:02\n",
      "   ---------------- ----------------------- 5.3/12.6 MB 5.8 MB/s eta 0:00:02\n",
      "   ----------------- ---------------------- 5.6/12.6 MB 5.8 MB/s eta 0:00:02\n",
      "   ------------------ --------------------- 5.8/12.6 MB 5.9 MB/s eta 0:00:02\n",
      "   ------------------- -------------------- 6.1/12.6 MB 5.9 MB/s eta 0:00:02\n",
      "   -------------------- ------------------- 6.3/12.6 MB 5.8 MB/s eta 0:00:02\n",
      "   -------------------- ------------------- 6.6/12.6 MB 5.8 MB/s eta 0:00:02\n",
      "   --------------------- ------------------ 6.9/12.6 MB 5.9 MB/s eta 0:00:01\n",
      "   ---------------------- ----------------- 7.2/12.6 MB 5.9 MB/s eta 0:00:01\n",
      "   ----------------------- ---------------- 7.5/12.6 MB 5.9 MB/s eta 0:00:01\n",
      "   ------------------------ --------------- 7.7/12.6 MB 5.9 MB/s eta 0:00:01\n",
      "   ------------------------- -------------- 8.0/12.6 MB 6.0 MB/s eta 0:00:01\n",
      "   -------------------------- ------------- 8.3/12.6 MB 6.0 MB/s eta 0:00:01\n",
      "   --------------------------- ------------ 8.6/12.6 MB 5.9 MB/s eta 0:00:01\n",
      "   ---------------------------- ----------- 8.9/12.6 MB 5.9 MB/s eta 0:00:01\n",
      "   ----------------------------- ---------- 9.2/12.6 MB 5.9 MB/s eta 0:00:01\n",
      "   ------------------------------ --------- 9.5/12.6 MB 6.0 MB/s eta 0:00:01\n",
      "   ------------------------------- -------- 9.8/12.6 MB 6.0 MB/s eta 0:00:01\n",
      "   -------------------------------- ------- 10.1/12.6 MB 5.9 MB/s eta 0:00:01\n",
      "   --------------------------------- ------ 10.4/12.6 MB 6.1 MB/s eta 0:00:01\n",
      "   ---------------------------------- ----- 10.7/12.6 MB 6.1 MB/s eta 0:00:01\n",
      "   ----------------------------------- ---- 11.1/12.6 MB 6.0 MB/s eta 0:00:01\n",
      "   ------------------------------------ --- 11.3/12.6 MB 6.0 MB/s eta 0:00:01\n",
      "   ------------------------------------- -- 11.7/12.6 MB 6.1 MB/s eta 0:00:01\n",
      "   -------------------------------------- - 12.0/12.6 MB 6.2 MB/s eta 0:00:01\n",
      "   -------------------------------------- - 12.2/12.6 MB 6.2 MB/s eta 0:00:01\n",
      "   ---------------------------------------  12.6/12.6 MB 6.1 MB/s eta 0:00:01\n",
      "   ---------------------------------------- 12.6/12.6 MB 5.9 MB/s eta 0:00:00\n",
      "Installing collected packages: numpy\n",
      "Successfully installed numpy-2.1.1\n"
     ]
    }
   ],
   "source": [
    "!pip install numpy"
   ]
  },
  {
   "cell_type": "markdown",
   "metadata": {},
   "source": [
    "import numpy"
   ]
  },
  {
   "cell_type": "code",
   "execution_count": 2,
   "metadata": {},
   "outputs": [],
   "source": [
    "import numpy as np"
   ]
  },
  {
   "cell_type": "markdown",
   "metadata": {},
   "source": [
    "1D ARRAY"
   ]
  },
  {
   "cell_type": "code",
   "execution_count": 31,
   "metadata": {},
   "outputs": [
    {
     "name": "stdout",
     "output_type": "stream",
     "text": [
      "[1 2 3 4 5]\n",
      "5\n",
      "(5,)\n"
     ]
    }
   ],
   "source": [
    "arr1=np.array([1,2,3,4,5])\n",
    "print(arr1)\n",
    "print(arr1.size)\n",
    "print(arr1.shape)"
   ]
  },
  {
   "cell_type": "code",
   "execution_count": 25,
   "metadata": {},
   "outputs": [
    {
     "name": "stdout",
     "output_type": "stream",
     "text": [
      "[[1 2 3 4 5]\n",
      " [0 0 0 0 0]]\n",
      "(2, 5)\n"
     ]
    }
   ],
   "source": [
    "arr2=np.array([1,2,3,4,5])\n",
    "arr2.resize(2,5)\n",
    "print(arr2)\n",
    "print(arr2.shape)"
   ]
  },
  {
   "cell_type": "markdown",
   "metadata": {},
   "source": [
    "2D ARRAY"
   ]
  },
  {
   "cell_type": "code",
   "execution_count": 34,
   "metadata": {},
   "outputs": [
    {
     "name": "stdout",
     "output_type": "stream",
     "text": [
      "[[1 2 3 4 5]\n",
      " [1 2 3 4 5]]\n"
     ]
    }
   ],
   "source": [
    "arr3=np.array([[1,2,3,4,5],[1,2,3,4,5]])\n",
    "print(arr3)"
   ]
  },
  {
   "cell_type": "markdown",
   "metadata": {},
   "source": [
    "BUILTIN FUNCTION IN NUMPY"
   ]
  },
  {
   "cell_type": "code",
   "execution_count": 36,
   "metadata": {},
   "outputs": [
    {
     "data": {
      "text/plain": [
       "array([[1., 1., 1., 1.],\n",
       "       [1., 1., 1., 1.],\n",
       "       [1., 1., 1., 1.]])"
      ]
     },
     "execution_count": 36,
     "metadata": {},
     "output_type": "execute_result"
    }
   ],
   "source": [
    "np.ones((3,4))"
   ]
  },
  {
   "cell_type": "code",
   "execution_count": 42,
   "metadata": {},
   "outputs": [
    {
     "name": "stdout",
     "output_type": "stream",
     "text": [
      "[0 2 4 6 8]\n"
     ]
    },
    {
     "data": {
      "text/plain": [
       "array([[0],\n",
       "       [2],\n",
       "       [4],\n",
       "       [6],\n",
       "       [8]])"
      ]
     },
     "execution_count": 42,
     "metadata": {},
     "output_type": "execute_result"
    }
   ],
   "source": [
    "arr4=np.arange(0,10,2)\n",
    "print(arr4)\n",
    "arr4.reshape(5,1)"
   ]
  },
  {
   "cell_type": "code",
   "execution_count": 43,
   "metadata": {},
   "outputs": [
    {
     "data": {
      "text/plain": [
       "array([[1., 0., 0.],\n",
       "       [0., 1., 0.],\n",
       "       [0., 0., 1.]])"
      ]
     },
     "execution_count": 43,
     "metadata": {},
     "output_type": "execute_result"
    }
   ],
   "source": [
    "## identity matrix\n",
    "np.eye(3,3)"
   ]
  },
  {
   "cell_type": "code",
   "execution_count": 50,
   "metadata": {},
   "outputs": [
    {
     "name": "stdout",
     "output_type": "stream",
     "text": [
      "Array:\n",
      " [[1 2 3]\n",
      " [4 5 6]]\n",
      "shape: (2, 3)\n",
      "dimension: 2\n",
      "data type: int64\n",
      "item size(in bytes): 8\n"
     ]
    }
   ],
   "source": [
    "arr5=np.array([[1,2,3],[4,5,6]])\n",
    "\n",
    "print(\"Array:\\n\",arr5)\n",
    "print(\"shape:\",arr5.shape)\n",
    "print(\"dimension:\",arr5.ndim)\n",
    "print(\"data type:\",arr5.dtype)\n",
    "print(\"item size(in bytes):\",arr5.itemsize)"
   ]
  },
  {
   "cell_type": "markdown",
   "metadata": {},
   "source": [
    "NUMPY VECTORIZED OPERATION"
   ]
  },
  {
   "cell_type": "code",
   "execution_count": 53,
   "metadata": {},
   "outputs": [
    {
     "name": "stdout",
     "output_type": "stream",
     "text": [
      "[2 3 4 5 6]\n",
      "[0 1 2 3 4]\n",
      "[1 2 3 4 5]\n"
     ]
    }
   ],
   "source": [
    "arr6=np.array([1,2,3,4,5])\n",
    "arr7=np.array([1,1,1,1,1])\n",
    "\n",
    "##Element wise addition\n",
    "print(arr6+arr7)\n",
    "\n",
    "##Element wise subtraction\n",
    "print(arr6-arr7)\n",
    "\n",
    "##Element wise multiplication\n",
    "print(arr6*arr7)\n"
   ]
  },
  {
   "cell_type": "markdown",
   "metadata": {},
   "source": [
    "ARRAY SLICING AND INDEXING"
   ]
  },
  {
   "cell_type": "code",
   "execution_count": 109,
   "metadata": {},
   "outputs": [
    {
     "name": "stdout",
     "output_type": "stream",
     "text": [
      "Array:\n",
      " [[ 1  2  3  4]\n",
      " [ 5  6  7  8]\n",
      " [ 9 10 11 12]]\n",
      "\n",
      "\n",
      "1\n"
     ]
    },
    {
     "data": {
      "text/plain": [
       "array([[ 7,  8],\n",
       "       [11, 12]])"
      ]
     },
     "execution_count": 109,
     "metadata": {},
     "output_type": "execute_result"
    }
   ],
   "source": [
    "arr8=np.array([[1,2,3,4],[5,6,7,8],[9,10,11,12]])\n",
    "print(\"Array:\\n\",arr8)\n",
    "\n",
    "print(\"\\n\")\n",
    "\n",
    "##if i want to select only one elemrnt from matrix\n",
    "print(arr8[0,0])\n",
    "\n",
    "##if i want to select element 7,8,11,12 then i will use slice method\n",
    "arr8[1:,2:]"
   ]
  },
  {
   "cell_type": "markdown",
   "metadata": {},
   "source": [
    "MODIFY ARRAY ELEMENT"
   ]
  },
  {
   "cell_type": "code",
   "execution_count": 110,
   "metadata": {},
   "outputs": [
    {
     "name": "stdout",
     "output_type": "stream",
     "text": [
      "[[100   2   3   4]\n",
      " [  5   6   7   8]\n",
      " [  9  10  11  12]]\n"
     ]
    }
   ],
   "source": [
    "arr8[0,0]=100\n",
    "print(arr8)"
   ]
  },
  {
   "cell_type": "code",
   "execution_count": 111,
   "metadata": {},
   "outputs": [
    {
     "name": "stdout",
     "output_type": "stream",
     "text": [
      "[[100   2   3   4]\n",
      " [  5   6   7   8]\n",
      " [  9   0   0  12]]\n"
     ]
    }
   ],
   "source": [
    "arr8[2:,1:3]=0\n",
    "print(arr8)"
   ]
  },
  {
   "cell_type": "markdown",
   "metadata": {},
   "source": [
    "LOGICAL OPERATION"
   ]
  },
  {
   "cell_type": "code",
   "execution_count": 117,
   "metadata": {},
   "outputs": [
    {
     "data": {
      "text/plain": [
       "array([ 6,  7,  8,  9, 10])"
      ]
     },
     "execution_count": 117,
     "metadata": {},
     "output_type": "execute_result"
    }
   ],
   "source": [
    "arr9=np.array([1,2,3,4,5,6,7,8,9,10])\n",
    "arr9[arr9>5]"
   ]
  },
  {
   "cell_type": "code",
   "execution_count": null,
   "metadata": {},
   "outputs": [],
   "source": []
  }
 ],
 "metadata": {
  "kernelspec": {
   "display_name": "Python 3",
   "language": "python",
   "name": "python3"
  },
  "language_info": {
   "codemirror_mode": {
    "name": "ipython",
    "version": 3
   },
   "file_extension": ".py",
   "mimetype": "text/x-python",
   "name": "python",
   "nbconvert_exporter": "python",
   "pygments_lexer": "ipython3",
   "version": "3.12.0"
  }
 },
 "nbformat": 4,
 "nbformat_minor": 2
}
